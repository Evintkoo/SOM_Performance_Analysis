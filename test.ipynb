{
 "cells": [
  {
   "cell_type": "code",
   "execution_count": 1,
   "metadata": {},
   "outputs": [],
   "source": [
    "from som import SOM\n",
    "import pandas as pd\n",
    "import numpy as np\n",
    "import random"
   ]
  },
  {
   "cell_type": "code",
   "execution_count": 2,
   "metadata": {},
   "outputs": [
    {
     "data": {
      "text/html": [
       "<div>\n",
       "<style scoped>\n",
       "    .dataframe tbody tr th:only-of-type {\n",
       "        vertical-align: middle;\n",
       "    }\n",
       "\n",
       "    .dataframe tbody tr th {\n",
       "        vertical-align: top;\n",
       "    }\n",
       "\n",
       "    .dataframe thead th {\n",
       "        text-align: right;\n",
       "    }\n",
       "</style>\n",
       "<table border=\"1\" class=\"dataframe\">\n",
       "  <thead>\n",
       "    <tr style=\"text-align: right;\">\n",
       "      <th></th>\n",
       "      <th>5.1</th>\n",
       "      <th>3.5</th>\n",
       "      <th>1.4</th>\n",
       "      <th>0.2</th>\n",
       "    </tr>\n",
       "  </thead>\n",
       "  <tbody>\n",
       "    <tr>\n",
       "      <th>0</th>\n",
       "      <td>4.9</td>\n",
       "      <td>3.0</td>\n",
       "      <td>1.4</td>\n",
       "      <td>0.2</td>\n",
       "    </tr>\n",
       "    <tr>\n",
       "      <th>1</th>\n",
       "      <td>4.7</td>\n",
       "      <td>3.2</td>\n",
       "      <td>1.3</td>\n",
       "      <td>0.2</td>\n",
       "    </tr>\n",
       "    <tr>\n",
       "      <th>2</th>\n",
       "      <td>4.6</td>\n",
       "      <td>3.1</td>\n",
       "      <td>1.5</td>\n",
       "      <td>0.2</td>\n",
       "    </tr>\n",
       "    <tr>\n",
       "      <th>3</th>\n",
       "      <td>5.0</td>\n",
       "      <td>3.6</td>\n",
       "      <td>1.4</td>\n",
       "      <td>0.2</td>\n",
       "    </tr>\n",
       "    <tr>\n",
       "      <th>4</th>\n",
       "      <td>5.4</td>\n",
       "      <td>3.9</td>\n",
       "      <td>1.7</td>\n",
       "      <td>0.4</td>\n",
       "    </tr>\n",
       "  </tbody>\n",
       "</table>\n",
       "</div>"
      ],
      "text/plain": [
       "   5.1  3.5  1.4  0.2\n",
       "0  4.9  3.0  1.4  0.2\n",
       "1  4.7  3.2  1.3  0.2\n",
       "2  4.6  3.1  1.5  0.2\n",
       "3  5.0  3.6  1.4  0.2\n",
       "4  5.4  3.9  1.7  0.4"
      ]
     },
     "execution_count": 2,
     "metadata": {},
     "output_type": "execute_result"
    }
   ],
   "source": [
    "df = pd.read_csv(\"iris_data.csv\")\n",
    "df = df.iloc[:, :-1]\n",
    "df.head()"
   ]
  },
  {
   "cell_type": "code",
   "execution_count": 3,
   "metadata": {},
   "outputs": [
    {
     "data": {
      "text/plain": [
       "7.9"
      ]
     },
     "execution_count": 3,
     "metadata": {},
     "output_type": "execute_result"
    }
   ],
   "source": [
    "df.values.max()"
   ]
  },
  {
   "cell_type": "code",
   "execution_count": 4,
   "metadata": {},
   "outputs": [],
   "source": [
    "model = SOM(m = 1, n = 10, dim = 4, max_iter=100000, learning_rate=0.9, neighbour_rad = 3, method=\"random\")"
   ]
  },
  {
   "cell_type": "code",
   "execution_count": 5,
   "metadata": {},
   "outputs": [
    {
     "data": {
      "text/plain": [
       "(0, 9)"
      ]
     },
     "execution_count": 5,
     "metadata": {},
     "output_type": "execute_result"
    }
   ],
   "source": [
    "np.unravel_index(9, (model.m, model.n))"
   ]
  },
  {
   "cell_type": "code",
   "execution_count": 6,
   "metadata": {},
   "outputs": [],
   "source": [
    "model.fit(df.values, epoch=10)"
   ]
  },
  {
   "cell_type": "code",
   "execution_count": 7,
   "metadata": {},
   "outputs": [
    {
     "data": {
      "text/plain": [
       "array([1, 4, 7], dtype=int64)"
      ]
     },
     "execution_count": 7,
     "metadata": {},
     "output_type": "execute_result"
    }
   ],
   "source": [
    "np.unique(model.predict(df.values))"
   ]
  },
  {
   "cell_type": "code",
   "execution_count": 8,
   "metadata": {},
   "outputs": [
    {
     "data": {
      "text/plain": [
       "[[array([0.580588  , 2.94683826, 0.39174299, 2.2818951 ])],\n",
       " [array([4.4588679 , 0.59389886, 2.09655699, 3.38169726])],\n",
       " [array([2.17464545, 7.39993506, 5.43294934, 0.32488776])],\n",
       " [array([4.44817599, 4.15593456, 7.29904799, 6.82232974])],\n",
       " [array([5.99807583, 3.72746859, 5.5538339 , 5.07378592])],\n",
       " [array([7.06682746, 0.98477444, 1.23232532, 4.86435382])],\n",
       " [array([7.769806  , 5.56729817, 4.96654331, 6.44266711])],\n",
       " [array([5.25887624, 1.29848798, 0.9358824 , 2.24005753])],\n",
       " [array([3.43761542, 7.88112858, 7.17773259, 3.96017811])],\n",
       " [array([4.0860643 , 3.94013592, 2.43793525, 7.71665312])]]"
      ]
     },
     "execution_count": 8,
     "metadata": {},
     "output_type": "execute_result"
    }
   ],
   "source": [
    "model.neurons"
   ]
  },
  {
   "cell_type": "code",
   "execution_count": 9,
   "metadata": {},
   "outputs": [
    {
     "data": {
      "text/plain": [
       "array([[0.580588  , 2.94683826, 0.39174299, 2.2818951 ],\n",
       "       [4.4588679 , 0.59389886, 2.09655699, 3.38169726],\n",
       "       [2.17464545, 7.39993506, 5.43294934, 0.32488776],\n",
       "       [4.44817599, 4.15593456, 7.29904799, 6.82232974],\n",
       "       [5.99807583, 3.72746859, 5.5538339 , 5.07378592],\n",
       "       [7.06682746, 0.98477444, 1.23232532, 4.86435382],\n",
       "       [7.769806  , 5.56729817, 4.96654331, 6.44266711],\n",
       "       [5.25887624, 1.29848798, 0.9358824 , 2.24005753],\n",
       "       [3.43761542, 7.88112858, 7.17773259, 3.96017811],\n",
       "       [4.0860643 , 3.94013592, 2.43793525, 7.71665312]])"
      ]
     },
     "execution_count": 9,
     "metadata": {},
     "output_type": "execute_result"
    }
   ],
   "source": [
    "model.cluster_center_"
   ]
  },
  {
   "cell_type": "code",
   "execution_count": 10,
   "metadata": {},
   "outputs": [
    {
     "data": {
      "text/plain": [
       "[[array([0.580588  , 2.94683826, 0.39174299, 2.2818951 ])],\n",
       " [array([4.4588679 , 0.59389886, 2.09655699, 3.38169726])],\n",
       " [array([2.17464545, 7.39993506, 5.43294934, 0.32488776])],\n",
       " [array([4.44817599, 4.15593456, 7.29904799, 6.82232974])],\n",
       " [array([5.99807583, 3.72746859, 5.5538339 , 5.07378592])],\n",
       " [array([7.06682746, 0.98477444, 1.23232532, 4.86435382])],\n",
       " [array([7.769806  , 5.56729817, 4.96654331, 6.44266711])],\n",
       " [array([5.25887624, 1.29848798, 0.9358824 , 2.24005753])],\n",
       " [array([3.43761542, 7.88112858, 7.17773259, 3.96017811])],\n",
       " [array([4.0860643 , 3.94013592, 2.43793525, 7.71665312])]]"
      ]
     },
     "execution_count": 10,
     "metadata": {},
     "output_type": "execute_result"
    }
   ],
   "source": [
    "model.initial_neurons"
   ]
  },
  {
   "cell_type": "code",
   "execution_count": null,
   "metadata": {},
   "outputs": [],
   "source": []
  }
 ],
 "metadata": {
  "kernelspec": {
   "display_name": "Python 3",
   "language": "python",
   "name": "python3"
  },
  "language_info": {
   "codemirror_mode": {
    "name": "ipython",
    "version": 3
   },
   "file_extension": ".py",
   "mimetype": "text/x-python",
   "name": "python",
   "nbconvert_exporter": "python",
   "pygments_lexer": "ipython3",
   "version": "3.10.11"
  },
  "orig_nbformat": 4
 },
 "nbformat": 4,
 "nbformat_minor": 2
}

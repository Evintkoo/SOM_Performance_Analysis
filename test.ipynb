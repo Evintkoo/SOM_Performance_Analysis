{
 "cells": [
  {
   "cell_type": "code",
   "execution_count": 10,
   "metadata": {},
   "outputs": [],
   "source": [
    "import pandas as pd\n",
    "import numpy as np\n",
    "import matplotlib.pyplot as plt"
   ]
  },
  {
   "cell_type": "code",
   "execution_count": 9,
   "metadata": {},
   "outputs": [
    {
     "data": {
      "text/html": [
       "<div>\n",
       "<style scoped>\n",
       "    .dataframe tbody tr th:only-of-type {\n",
       "        vertical-align: middle;\n",
       "    }\n",
       "\n",
       "    .dataframe tbody tr th {\n",
       "        vertical-align: top;\n",
       "    }\n",
       "\n",
       "    .dataframe thead th {\n",
       "        text-align: right;\n",
       "    }\n",
       "</style>\n",
       "<table border=\"1\" class=\"dataframe\">\n",
       "  <thead>\n",
       "    <tr style=\"text-align: right;\">\n",
       "      <th></th>\n",
       "      <th>random</th>\n",
       "      <th>kde</th>\n",
       "      <th>kmeans</th>\n",
       "      <th>kde_kmeans</th>\n",
       "      <th>kmeans++</th>\n",
       "      <th>SOM++</th>\n",
       "    </tr>\n",
       "  </thead>\n",
       "  <tbody>\n",
       "    <tr>\n",
       "      <th>count</th>\n",
       "      <td>100.000000</td>\n",
       "      <td>100.000000</td>\n",
       "      <td>100.000000</td>\n",
       "      <td>100.000000</td>\n",
       "      <td>100.000000</td>\n",
       "      <td>100.000000</td>\n",
       "    </tr>\n",
       "    <tr>\n",
       "      <th>mean</th>\n",
       "      <td>0.009096</td>\n",
       "      <td>6.659315</td>\n",
       "      <td>7.172715</td>\n",
       "      <td>14.243541</td>\n",
       "      <td>7.187587</td>\n",
       "      <td>0.013305</td>\n",
       "    </tr>\n",
       "    <tr>\n",
       "      <th>std</th>\n",
       "      <td>0.004199</td>\n",
       "      <td>2.865651</td>\n",
       "      <td>2.649343</td>\n",
       "      <td>5.679821</td>\n",
       "      <td>2.710101</td>\n",
       "      <td>0.005686</td>\n",
       "    </tr>\n",
       "    <tr>\n",
       "      <th>min</th>\n",
       "      <td>0.005976</td>\n",
       "      <td>4.593200</td>\n",
       "      <td>5.304233</td>\n",
       "      <td>10.371816</td>\n",
       "      <td>5.371293</td>\n",
       "      <td>0.008992</td>\n",
       "    </tr>\n",
       "    <tr>\n",
       "      <th>25%</th>\n",
       "      <td>0.006999</td>\n",
       "      <td>4.974818</td>\n",
       "      <td>5.676756</td>\n",
       "      <td>11.111447</td>\n",
       "      <td>5.697866</td>\n",
       "      <td>0.010002</td>\n",
       "    </tr>\n",
       "    <tr>\n",
       "      <th>50%</th>\n",
       "      <td>0.007018</td>\n",
       "      <td>5.318750</td>\n",
       "      <td>5.918193</td>\n",
       "      <td>11.317962</td>\n",
       "      <td>5.793151</td>\n",
       "      <td>0.010998</td>\n",
       "    </tr>\n",
       "    <tr>\n",
       "      <th>75%</th>\n",
       "      <td>0.008001</td>\n",
       "      <td>5.598827</td>\n",
       "      <td>6.128341</td>\n",
       "      <td>11.916574</td>\n",
       "      <td>6.143507</td>\n",
       "      <td>0.011945</td>\n",
       "    </tr>\n",
       "    <tr>\n",
       "      <th>max</th>\n",
       "      <td>0.021109</td>\n",
       "      <td>12.971815</td>\n",
       "      <td>12.932197</td>\n",
       "      <td>26.235698</td>\n",
       "      <td>13.685176</td>\n",
       "      <td>0.030006</td>\n",
       "    </tr>\n",
       "  </tbody>\n",
       "</table>\n",
       "</div>"
      ],
      "text/plain": [
       "           random         kde      kmeans  kde_kmeans    kmeans++       SOM++\n",
       "count  100.000000  100.000000  100.000000  100.000000  100.000000  100.000000\n",
       "mean     0.009096    6.659315    7.172715   14.243541    7.187587    0.013305\n",
       "std      0.004199    2.865651    2.649343    5.679821    2.710101    0.005686\n",
       "min      0.005976    4.593200    5.304233   10.371816    5.371293    0.008992\n",
       "25%      0.006999    4.974818    5.676756   11.111447    5.697866    0.010002\n",
       "50%      0.007018    5.318750    5.918193   11.317962    5.793151    0.010998\n",
       "75%      0.008001    5.598827    6.128341   11.916574    6.143507    0.011945\n",
       "max      0.021109   12.971815   12.932197   26.235698   13.685176    0.030006"
      ]
     },
     "execution_count": 9,
     "metadata": {},
     "output_type": "execute_result"
    }
   ],
   "source": [
    "df = pd.read_csv(\"Datas/time_data.csv\")\n",
    "df.describe()"
   ]
  },
  {
   "cell_type": "code",
   "execution_count": 17,
   "metadata": {},
   "outputs": [
    {
     "data": {
      "text/plain": [
       "{'whiskers': [<matplotlib.lines.Line2D at 0x1cbc2b08370>,\n",
       "  <matplotlib.lines.Line2D at 0x1cbc2b09fc0>,\n",
       "  <matplotlib.lines.Line2D at 0x1cbc2a1a860>,\n",
       "  <matplotlib.lines.Line2D at 0x1cbc2a3a5f0>,\n",
       "  <matplotlib.lines.Line2D at 0x1cbc239a560>,\n",
       "  <matplotlib.lines.Line2D at 0x1cbc239ae00>,\n",
       "  <matplotlib.lines.Line2D at 0x1cbc27820b0>,\n",
       "  <matplotlib.lines.Line2D at 0x1cbc2782350>,\n",
       "  <matplotlib.lines.Line2D at 0x1cbc27860e0>,\n",
       "  <matplotlib.lines.Line2D at 0x1cbc2786380>,\n",
       "  <matplotlib.lines.Line2D at 0x1cbc2787340>,\n",
       "  <matplotlib.lines.Line2D at 0x1cbc27875e0>],\n",
       " 'caps': [<matplotlib.lines.Line2D at 0x1cbc2afabf0>,\n",
       "  <matplotlib.lines.Line2D at 0x1cbc2ade4a0>,\n",
       "  <matplotlib.lines.Line2D at 0x1cbc2a4f8e0>,\n",
       "  <matplotlib.lines.Line2D at 0x1cbc23984f0>,\n",
       "  <matplotlib.lines.Line2D at 0x1cbc239bca0>,\n",
       "  <matplotlib.lines.Line2D at 0x1cbc239bf40>,\n",
       "  <matplotlib.lines.Line2D at 0x1cbc27825f0>,\n",
       "  <matplotlib.lines.Line2D at 0x1cbc2782890>,\n",
       "  <matplotlib.lines.Line2D at 0x1cbc2786620>,\n",
       "  <matplotlib.lines.Line2D at 0x1cbc27868c0>,\n",
       "  <matplotlib.lines.Line2D at 0x1cbc2787880>,\n",
       "  <matplotlib.lines.Line2D at 0x1cbc278c5e0>],\n",
       " 'boxes': [<matplotlib.lines.Line2D at 0x1cbc2b35510>,\n",
       "  <matplotlib.lines.Line2D at 0x1cbc2a184f0>,\n",
       "  <matplotlib.lines.Line2D at 0x1cbc239b520>,\n",
       "  <matplotlib.lines.Line2D at 0x1cbc2781e10>,\n",
       "  <matplotlib.lines.Line2D at 0x1cbc2785e40>,\n",
       "  <matplotlib.lines.Line2D at 0x1cbc27870a0>],\n",
       " 'medians': [<matplotlib.lines.Line2D at 0x1cbc2ac88b0>,\n",
       "  <matplotlib.lines.Line2D at 0x1cbc2399ea0>,\n",
       "  <matplotlib.lines.Line2D at 0x1cbc27800d0>,\n",
       "  <matplotlib.lines.Line2D at 0x1cbc2782b30>,\n",
       "  <matplotlib.lines.Line2D at 0x1cbc2786b60>,\n",
       "  <matplotlib.lines.Line2D at 0x1cbc278d3f0>],\n",
       " 'fliers': [<matplotlib.lines.Line2D at 0x1cbc2aacd30>,\n",
       "  <matplotlib.lines.Line2D at 0x1cbc239a1d0>,\n",
       "  <matplotlib.lines.Line2D at 0x1cbc2780370>,\n",
       "  <matplotlib.lines.Line2D at 0x1cbc2787d30>,\n",
       "  <matplotlib.lines.Line2D at 0x1cbc2786e00>,\n",
       "  <matplotlib.lines.Line2D at 0x1cbc278dc60>],\n",
       " 'means': []}"
      ]
     },
     "execution_count": 17,
     "metadata": {},
     "output_type": "execute_result"
    },
    {
     "data": {
      "image/png": "[encoded data removed]",
      "text/plain": [
       "<Figure size 640x480 with 1 Axes>"
      ]
     },
     "metadata": {},
     "output_type": "display_data"
    }
   ],
   "source": [
    "plt.boxplot(df, labels=df.columns)"
   ]
  }
 ],
 "metadata": {
  "kernelspec": {
   "display_name": "Python 3",
   "language": "python",
   "name": "python3"
  },
  "language_info": {
   "codemirror_mode": {
    "name": "ipython",
    "version": 3
   },
   "file_extension": ".py",
   "mimetype": "text/x-python",
   "name": "python",
   "nbconvert_exporter": "python",
   "pygments_lexer": "ipython3",
   "version": "3.10.11"
  },
  "orig_nbformat": 4
 },
 "nbformat": 4,
 "nbformat_minor": 2
}

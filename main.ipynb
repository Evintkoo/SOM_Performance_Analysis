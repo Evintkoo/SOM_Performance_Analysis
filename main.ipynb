{
 "cells": [
  {
   "cell_type": "code",
   "execution_count": 57,
   "metadata": {},
   "outputs": [
    {
     "ename": "ImportError",
     "evalue": "cannot import name 'bcubed_recall' from 'SOM_plus_clustering.modules.evals' (c:\\Users\\Evint\\Documents\\Projects\\SOM_Performance_Analysis\\SOM_plus_clustering\\modules\\evals.py)",
     "output_type": "error",
     "traceback": [
      "\u001b[1;31m---------------------------------------------------------------------------\u001b[0m",
      "\u001b[1;31mImportError\u001b[0m                               Traceback (most recent call last)",
      "Cell \u001b[1;32mIn[57], line 6\u001b[0m\n\u001b[0;32m      4\u001b[0m \u001b[38;5;28;01mfrom\u001b[39;00m \u001b[38;5;21;01mSOM_plus_clustering\u001b[39;00m\u001b[38;5;21;01m.\u001b[39;00m\u001b[38;5;21;01mmodules\u001b[39;00m\u001b[38;5;21;01m.\u001b[39;00m\u001b[38;5;21;01msom\u001b[39;00m \u001b[38;5;28;01mimport\u001b[39;00m SOM\n\u001b[0;32m      5\u001b[0m \u001b[38;5;28;01mfrom\u001b[39;00m \u001b[38;5;21;01mSOM_plus_clustering\u001b[39;00m\u001b[38;5;21;01m.\u001b[39;00m\u001b[38;5;21;01mmodules\u001b[39;00m\u001b[38;5;21;01m.\u001b[39;00m\u001b[38;5;21;01mkmeans\u001b[39;00m \u001b[38;5;28;01mimport\u001b[39;00m KMeans\n\u001b[1;32m----> 6\u001b[0m \u001b[38;5;28;01mfrom\u001b[39;00m \u001b[38;5;21;01mSOM_plus_clustering\u001b[39;00m\u001b[38;5;21;01m.\u001b[39;00m\u001b[38;5;21;01mmodules\u001b[39;00m\u001b[38;5;21;01m.\u001b[39;00m\u001b[38;5;21;01mevals\u001b[39;00m \u001b[38;5;28;01mimport\u001b[39;00m bcubed_recall\n\u001b[0;32m      7\u001b[0m \u001b[38;5;28;01mfrom\u001b[39;00m \u001b[38;5;21;01mSOM_plus_clustering\u001b[39;00m\u001b[38;5;21;01m.\u001b[39;00m\u001b[38;5;21;01mmodules\u001b[39;00m\u001b[38;5;21;01m.\u001b[39;00m\u001b[38;5;21;01mvariables\u001b[39;00m \u001b[38;5;28;01mimport\u001b[39;00m INITIATION_METHOD_LIST\n\u001b[0;32m      8\u001b[0m \u001b[38;5;28;01mfrom\u001b[39;00m \u001b[38;5;21;01msklearn\u001b[39;00m \u001b[38;5;28;01mimport\u001b[39;00m preprocessing\n",
      "\u001b[1;31mImportError\u001b[0m: cannot import name 'bcubed_recall' from 'SOM_plus_clustering.modules.evals' (c:\\Users\\Evint\\Documents\\Projects\\SOM_Performance_Analysis\\SOM_plus_clustering\\modules\\evals.py)"
     ]
    }
   ],
   "source": [
    "# import libraries\n",
    "import pandas as pd\n",
    "import numpy as np \n",
    "from SOM_plus_clustering.modules.som import SOM\n",
    "from SOM_plus_clustering.modules.kmeans import KMeans\n",
    "from SOM_plus_clustering.modules.variables import INITIATION_METHOD_LIST\n",
    "from sklearn import preprocessing\n",
    "from sklearn.metrics import silhouette_score\n",
    "from tqdm import tqdm\n",
    "import time"
   ]
  },
  {
   "cell_type": "code",
   "execution_count": 49,
   "metadata": {},
   "outputs": [
    {
     "data": {
      "text/html": [
       "<div>\n",
       "<style scoped>\n",
       "    .dataframe tbody tr th:only-of-type {\n",
       "        vertical-align: middle;\n",
       "    }\n",
       "\n",
       "    .dataframe tbody tr th {\n",
       "        vertical-align: top;\n",
       "    }\n",
       "\n",
       "    .dataframe thead th {\n",
       "        text-align: right;\n",
       "    }\n",
       "</style>\n",
       "<table border=\"1\" class=\"dataframe\">\n",
       "  <thead>\n",
       "    <tr style=\"text-align: right;\">\n",
       "      <th></th>\n",
       "      <th>0</th>\n",
       "      <th>1</th>\n",
       "      <th>2</th>\n",
       "      <th>3</th>\n",
       "    </tr>\n",
       "  </thead>\n",
       "  <tbody>\n",
       "    <tr>\n",
       "      <th>0</th>\n",
       "      <td>5.1</td>\n",
       "      <td>3.5</td>\n",
       "      <td>1.4</td>\n",
       "      <td>0.2</td>\n",
       "    </tr>\n",
       "    <tr>\n",
       "      <th>1</th>\n",
       "      <td>4.9</td>\n",
       "      <td>3.0</td>\n",
       "      <td>1.4</td>\n",
       "      <td>0.2</td>\n",
       "    </tr>\n",
       "    <tr>\n",
       "      <th>2</th>\n",
       "      <td>4.7</td>\n",
       "      <td>3.2</td>\n",
       "      <td>1.3</td>\n",
       "      <td>0.2</td>\n",
       "    </tr>\n",
       "    <tr>\n",
       "      <th>3</th>\n",
       "      <td>4.6</td>\n",
       "      <td>3.1</td>\n",
       "      <td>1.5</td>\n",
       "      <td>0.2</td>\n",
       "    </tr>\n",
       "    <tr>\n",
       "      <th>4</th>\n",
       "      <td>5.0</td>\n",
       "      <td>3.6</td>\n",
       "      <td>1.4</td>\n",
       "      <td>0.2</td>\n",
       "    </tr>\n",
       "  </tbody>\n",
       "</table>\n",
       "</div>"
      ],
      "text/plain": [
       "     0    1    2    3\n",
       "0  5.1  3.5  1.4  0.2\n",
       "1  4.9  3.0  1.4  0.2\n",
       "2  4.7  3.2  1.3  0.2\n",
       "3  4.6  3.1  1.5  0.2\n",
       "4  5.0  3.6  1.4  0.2"
      ]
     },
     "execution_count": 49,
     "metadata": {},
     "output_type": "execute_result"
    }
   ],
   "source": [
    "# read dataset to be tested in clustering\n",
    "df = pd.read_csv('iris_data.csv', header=None)\n",
    "df.drop(4, axis=1, inplace=True)\n",
    "df.head()"
   ]
  },
  {
   "cell_type": "code",
   "execution_count": 50,
   "metadata": {},
   "outputs": [],
   "source": [
    "def get_sc(X,y):\n",
    "    try:\n",
    "        return silhouette_score(X,y)\n",
    "    except:\n",
    "        return -1"
   ]
  },
  {
   "cell_type": "code",
   "execution_count": 53,
   "metadata": {},
   "outputs": [],
   "source": [
    "def implicit_test_clustering_method(X: np.ndarray, total_trial: int, som_max_iteration:int, som_lr: float, som_nr:int, epoch:int, kmeans_total_cluster:int, som_m:int, som_n:int, path:str) -> pd.DataFrame:\n",
    "    \"\"\"\n",
    "    Collects silhouette score of kmeans and SOM method with different initiator method.\n",
    "\n",
    "    Args:\n",
    "        X (np.ndarray): Values of test dataset.\n",
    "        total_trial (int): Number of iteration for each clustering.\n",
    "        som_max_iteration (int): Maximum iteration for self organizing matrix.\n",
    "        som_lr (float): Value of learning rate (alpha) of Self Organzing Matrix.\n",
    "        som_nr (int): Value of radius (gamma) of Self Organizing Matrix.\n",
    "        epoch (int): Number of training iteration.\n",
    "        kmeans_total_cluster (int): Total number of center that initiated in kmeans.\n",
    "        som_m (int): Height of matrix in Self Organizing Matrix.\n",
    "        som_n (int): Width of matrix in Self Organizing Matrix.\n",
    "\n",
    "    Returns:\n",
    "        pd.DataFrame: Table of silhouette score for each method.\n",
    "    \"\"\"\n",
    "    list_sil_data = []\n",
    "    list_ex_data = []\n",
    "    list_time = []\n",
    "    for i in tqdm(range(total_trial)):\n",
    "        list_ex_time = []\n",
    "        kmeans_model2 = KMeans(n_clusters=kmeans_total_cluster, method=\"kmeans++\")\n",
    "        ts = time.time()\n",
    "        kmeans_model2.fit(X, epochs=epoch)\n",
    "        ts = time.time() - ts\n",
    "        list_ex_time.append(ts)\n",
    "        kmeans_model2_pred = kmeans_model2.predict(X)\n",
    "        list_kmeans_eval = [get_sc(X, kmeans_model2_pred)]\n",
    "        list_som_model_eval = []\n",
    "        \n",
    "        for methods in INITIATION_METHOD_LIST:\n",
    "            if methods != \"kde_kmeans\":\n",
    "                som_model = SOM(m = som_m, n = som_n, \n",
    "                                dim = X.shape[1], initiate_method = methods, \n",
    "                                max_iter = som_max_iteration, \n",
    "                                learning_rate = som_lr, neighbour_rad = som_nr, distance_function=\"euclidean\")\n",
    "                ts = time.time()\n",
    "                som_model.fit(X=X, epoch=epoch)\n",
    "                ts = time.time() - ts\n",
    "                list_ex_time.append(ts)\n",
    "                pred = som_model.predict(X=X)\n",
    "                #eval_score = som_model.evaluate(X=X, method=\"silhouette\")\n",
    "                eval_score = get_sc(X, pred)\n",
    "                list_som_model_eval.append(eval_score)\n",
    "        print(list_kmeans_eval+list_som_model_eval)\n",
    "        list_sil_data.append(list_kmeans_eval+list_som_model_eval)\n",
    "        list_time.append(list_ex_time)\n",
    "        print(\"saving data\") \n",
    "        data_table = pd.DataFrame(list_sil_data, columns=[\"kmeans++\", \"random SOM\", \"kmeans SOM\", \"kmeans++ SOM\", \"SOM++\", \"kde SOM\"])\n",
    "        time_table = pd.DataFrame(list_time, columns=[\"kmeans++\", \"random SOM\", \"kmeans SOM\", \"kmeans++ SOM\", \"SOM++\", \"kde SOM\"])\n",
    "        data_table.to_csv(path, index=False)\n",
    "        time_table.to_csv(\"Datas/time_execution.csv\", index=False)\n",
    "    return\n",
    "        "
   ]
  },
  {
   "cell_type": "code",
   "execution_count": 54,
   "metadata": {},
   "outputs": [
    {
     "name": "stderr",
     "output_type": "stream",
     "text": [
      "evaluation score: 0.018699999999999998: 100%|██████████| 10000/10000 [00:37<00:00, 266.01it/s]\n",
      "evaluation score: 0.01893333333333333: 100%|██████████| 10000/10000 [00:37<00:00, 265.77it/s]\n",
      "evaluation score: 0.018066666666666665: 100%|██████████| 10000/10000 [00:38<00:00, 259.20it/s]\n",
      "evaluation score: 0.017566666666666664: 100%|██████████| 10000/10000 [00:37<00:00, 268.35it/s]\n",
      "evaluation score: 0.017966666666666666: 100%|██████████| 10000/10000 [00:38<00:00, 259.81it/s]\n",
      "  2%|▏         | 1/50 [03:49<3:07:26, 229.52s/it]"
     ]
    },
    {
     "name": "stdout",
     "output_type": "stream",
     "text": [
      "[0.31630607170422614, 0.3436710273057093, -1, 0.5304224254143316, 0.4363819407007648, 0.5988408665334525]\n",
      "saving data\n"
     ]
    },
    {
     "name": "stderr",
     "output_type": "stream",
     "text": [
      "evaluation score: 0.018533333333333332: 100%|██████████| 10000/10000 [00:37<00:00, 263.72it/s]\n",
      "evaluation score: 0.01813333333333333: 100%|██████████| 10000/10000 [00:37<00:00, 269.43it/s]\n",
      "evaluation score: 0.018666666666666665: 100%|██████████| 10000/10000 [00:38<00:00, 257.13it/s]\n",
      "evaluation score: 0.017333333333333333: 100%|██████████| 10000/10000 [00:37<00:00, 266.77it/s]\n",
      "evaluation score: 0.017966666666666666: 100%|██████████| 10000/10000 [00:37<00:00, 265.37it/s]\n",
      "  4%|▍         | 2/50 [07:38<3:03:17, 229.11s/it]"
     ]
    },
    {
     "name": "stdout",
     "output_type": "stream",
     "text": [
      "[0.2773043669089285, 0.8022198818167943, -1, -0.10456579137080574, 0.2825636175677777, 0.38279482394302383]\n",
      "saving data\n"
     ]
    },
    {
     "name": "stderr",
     "output_type": "stream",
     "text": [
      "evaluation score: 0.017933333333333332: 100%|██████████| 10000/10000 [00:38<00:00, 261.80it/s]\n",
      "evaluation score: 0.018199999999999997: 100%|██████████| 10000/10000 [00:36<00:00, 272.47it/s]\n",
      "evaluation score: 0.01883333333333333: 100%|██████████| 10000/10000 [00:39<00:00, 253.47it/s]\n",
      "evaluation score: 0.0184: 100%|██████████| 10000/10000 [00:38<00:00, 260.34it/s]\n",
      "evaluation score: 0.017966666666666666: 100%|██████████| 10000/10000 [00:37<00:00, 265.37it/s]\n",
      "  6%|▌         | 3/50 [11:28<2:59:50, 229.59s/it]"
     ]
    },
    {
     "name": "stdout",
     "output_type": "stream",
     "text": [
      "[0.22743377602522352, 0.2221840138111159, -1, -0.12346035729133589, 0.45809069846205686, 0.43674072486585996]\n",
      "saving data\n"
     ]
    },
    {
     "name": "stderr",
     "output_type": "stream",
     "text": [
      "evaluation score: 0.018099999999999998: 100%|██████████| 10000/10000 [00:39<00:00, 255.88it/s]\n",
      "evaluation score: 0.01823333333333333: 100%|██████████| 10000/10000 [00:36<00:00, 275.17it/s]\n",
      "evaluation score: 0.017933333333333332: 100%|██████████| 10000/10000 [00:38<00:00, 257.08it/s]\n",
      "evaluation score: 0.0174: 100%|██████████| 10000/10000 [00:38<00:00, 260.20it/s]\n",
      "evaluation score: 0.017966666666666666: 100%|██████████| 10000/10000 [00:37<00:00, 268.82it/s]\n",
      "  8%|▊         | 4/50 [15:18<2:56:11, 229.81s/it]"
     ]
    },
    {
     "name": "stdout",
     "output_type": "stream",
     "text": [
      "[0.27475684332356387, 0.34866455884676234, -1, 0.4987544314826511, 0.39045902906292224, 0.391999248767042]\n",
      "saving data\n"
     ]
    },
    {
     "name": "stderr",
     "output_type": "stream",
     "text": [
      "evaluation score: 0.018799999999999997: 100%|██████████| 10000/10000 [00:39<00:00, 255.43it/s]\n",
      "evaluation score: 0.018099999999999998: 100%|██████████| 10000/10000 [00:36<00:00, 277.17it/s]\n",
      "evaluation score: 0.018133333333333335: 100%|██████████| 10000/10000 [00:37<00:00, 264.67it/s]\n",
      "evaluation score: 0.0178: 100%|██████████| 10000/10000 [00:38<00:00, 260.00it/s]\n",
      "evaluation score: 0.017966666666666666: 100%|██████████| 10000/10000 [00:38<00:00, 258.15it/s]\n",
      " 10%|█         | 5/50 [19:08<2:52:26, 229.92s/it]"
     ]
    },
    {
     "name": "stdout",
     "output_type": "stream",
     "text": [
      "[0.26899222446826127, 0.34578299853250627, -1, 0.818857077290048, 0.3868772005424037, 0.41276406909655766]\n",
      "saving data\n"
     ]
    },
    {
     "name": "stderr",
     "output_type": "stream",
     "text": [
      "evaluation score: 0.0186: 100%|██████████| 10000/10000 [00:36<00:00, 271.58it/s]\n",
      "evaluation score: 0.018433333333333333: 100%|██████████| 10000/10000 [00:34<00:00, 287.29it/s]\n",
      "evaluation score: 0.018533333333333332: 100%|██████████| 10000/10000 [00:35<00:00, 284.58it/s]\n",
      "evaluation score: 0.017499999999999998: 100%|██████████| 10000/10000 [00:35<00:00, 280.10it/s]\n",
      "evaluation score: 0.017966666666666666: 100%|██████████| 10000/10000 [00:35<00:00, 282.70it/s]\n",
      " 12%|█▏        | 6/50 [22:45<2:45:15, 225.34s/it]"
     ]
    },
    {
     "name": "stdout",
     "output_type": "stream",
     "text": [
      "[0.2806643183676375, 0.43072091760391024, -1, -0.10873405996194294, 0.32402153029963576, 0.4453066713180084]\n",
      "saving data\n"
     ]
    },
    {
     "name": "stderr",
     "output_type": "stream",
     "text": [
      "evaluation score: 0.018766666666666664: 100%|██████████| 10000/10000 [00:36<00:00, 271.98it/s]\n",
      "evaluation score: 0.01753333333333333: 100%|██████████| 10000/10000 [00:35<00:00, 280.85it/s]\n",
      "evaluation score: 0.0186: 100%|██████████| 10000/10000 [00:34<00:00, 292.79it/s]\n",
      "evaluation score: 0.017366666666666666: 100%|██████████| 10000/10000 [00:35<00:00, 284.27it/s]\n",
      "evaluation score: 0.017966666666666666: 100%|██████████| 10000/10000 [00:35<00:00, 280.60it/s]\n",
      " 14%|█▍        | 7/50 [26:20<2:39:04, 221.96s/it]"
     ]
    },
    {
     "name": "stdout",
     "output_type": "stream",
     "text": [
      "[0.26915679156765404, 0.4478987879561976, -1, -0.11593067064807282, 0.14605952468147052, 0.4151298447982852]\n",
      "saving data\n"
     ]
    },
    {
     "name": "stderr",
     "output_type": "stream",
     "text": [
      "evaluation score: 0.017733333333333334: 100%|██████████| 10000/10000 [00:36<00:00, 276.53it/s]\n",
      "evaluation score: 0.018866666666666664: 100%|██████████| 10000/10000 [00:35<00:00, 281.81it/s]\n",
      "evaluation score: 0.0178: 100%|██████████| 10000/10000 [00:34<00:00, 287.68it/s]\n",
      "evaluation score: 0.017833333333333333: 100%|██████████| 10000/10000 [00:34<00:00, 288.94it/s]\n",
      "evaluation score: 0.017966666666666666: 100%|██████████| 10000/10000 [00:35<00:00, 283.70it/s]\n",
      " 16%|█▌        | 8/50 [29:53<2:33:29, 219.26s/it]"
     ]
    },
    {
     "name": "stdout",
     "output_type": "stream",
     "text": [
      "[0.47856353762019854, 0.24209204710135396, -1, 0.818857077290048, 0.0849059633016645, 0.45368340851522837]\n",
      "saving data\n"
     ]
    },
    {
     "name": "stderr",
     "output_type": "stream",
     "text": [
      "evaluation score: 0.018566666666666665: 100%|██████████| 10000/10000 [00:35<00:00, 283.09it/s]\n",
      "evaluation score: 0.018166666666666664: 100%|██████████| 10000/10000 [00:35<00:00, 279.76it/s]\n",
      "evaluation score: 0.01863333333333333: 100%|██████████| 10000/10000 [00:35<00:00, 281.74it/s]\n",
      "evaluation score: 0.0174: 100%|██████████| 10000/10000 [00:34<00:00, 292.55it/s]\n",
      "evaluation score: 0.017966666666666666: 100%|██████████| 10000/10000 [00:35<00:00, 283.15it/s]\n",
      " 18%|█▊        | 9/50 [33:27<2:28:43, 217.65s/it]"
     ]
    },
    {
     "name": "stdout",
     "output_type": "stream",
     "text": [
      "[0.2953057211588907, 0.38870609249563587, -1, 0.3868254481911826, 0.8188570772900479, 0.3762495630189713]\n",
      "saving data\n"
     ]
    },
    {
     "name": "stderr",
     "output_type": "stream",
     "text": [
      "evaluation score: 0.0186: 100%|██████████| 10000/10000 [00:36<00:00, 276.05it/s]\n",
      "evaluation score: 0.01786666666666667: 100%|██████████| 10000/10000 [00:35<00:00, 282.90it/s]\n",
      "evaluation score: 0.018333333333333333: 100%|██████████| 10000/10000 [00:36<00:00, 277.68it/s]\n",
      "evaluation score: 0.017699999999999997: 100%|██████████| 10000/10000 [00:35<00:00, 282.86it/s]\n",
      "evaluation score: 0.017966666666666666: 100%|██████████| 10000/10000 [00:34<00:00, 291.75it/s]\n",
      " 20%|██        | 10/50 [37:03<2:24:39, 216.98s/it]"
     ]
    },
    {
     "name": "stdout",
     "output_type": "stream",
     "text": [
      "[0.26467051955791365, 0.07885842005686455, -1, 0.8188570772900479, 0.14083788057771957, 0.42674000095876646]\n",
      "saving data\n"
     ]
    },
    {
     "name": "stderr",
     "output_type": "stream",
     "text": [
      "evaluation score: 0.01863333333333333: 100%|██████████| 10000/10000 [00:36<00:00, 272.97it/s]\n",
      "evaluation score: 0.018666666666666665: 100%|██████████| 10000/10000 [00:35<00:00, 280.20it/s]\n",
      "evaluation score: 0.018566666666666665: 100%|██████████| 10000/10000 [00:35<00:00, 278.63it/s]\n",
      "evaluation score: 0.018166666666666668: 100%|██████████| 10000/10000 [00:35<00:00, 278.54it/s]\n",
      "evaluation score: 0.017966666666666666: 100%|██████████| 10000/10000 [00:34<00:00, 286.03it/s]\n",
      " 22%|██▏       | 11/50 [40:40<2:21:00, 216.93s/it]"
     ]
    },
    {
     "name": "stdout",
     "output_type": "stream",
     "text": [
      "[0.24185160507186823, -1, -1, 0.37299381509608165, 0.40681238118664875, 0.598150799038328]\n",
      "saving data\n"
     ]
    },
    {
     "name": "stderr",
     "output_type": "stream",
     "text": [
      "evaluation score: 0.01883333333333333: 100%|██████████| 10000/10000 [00:36<00:00, 277.61it/s]\n",
      "evaluation score: 0.018066666666666665: 100%|██████████| 10000/10000 [00:35<00:00, 282.83it/s]\n",
      "evaluation score: 0.018433333333333333: 100%|██████████| 10000/10000 [00:34<00:00, 287.09it/s]\n",
      "evaluation score: 0.01773333333333333: 100%|██████████| 10000/10000 [00:35<00:00, 279.37it/s]\n",
      "evaluation score: 0.017966666666666666: 100%|██████████| 10000/10000 [00:36<00:00, 276.68it/s]\n",
      " 24%|██▍       | 12/50 [44:15<2:17:08, 216.54s/it]"
     ]
    },
    {
     "name": "stdout",
     "output_type": "stream",
     "text": [
      "[0.4355563446251637, 0.5182202990991879, -1, 0.22198874229648255, 0.5898871181095278, 0.4387229528367262]\n",
      "saving data\n"
     ]
    },
    {
     "name": "stderr",
     "output_type": "stream",
     "text": [
      "evaluation score: 0.018299999999999997: 100%|██████████| 10000/10000 [00:35<00:00, 282.23it/s]\n",
      "evaluation score: 0.018666666666666665: 100%|██████████| 10000/10000 [00:34<00:00, 286.17it/s]\n",
      "evaluation score: 0.018299999999999997: 100%|██████████| 10000/10000 [00:34<00:00, 286.36it/s]\n",
      "evaluation score: 0.017499999999999998: 100%|██████████| 10000/10000 [00:35<00:00, 280.03it/s]\n",
      "evaluation score: 0.017966666666666666: 100%|██████████| 10000/10000 [00:35<00:00, 279.32it/s]\n",
      " 26%|██▌       | 13/50 [47:49<2:13:01, 215.70s/it]"
     ]
    },
    {
     "name": "stdout",
     "output_type": "stream",
     "text": [
      "[0.33490684040721536, 0.08314684579186712, -1, 0.19361745652798357, 0.25786329352621246, 0.6101685686737489]\n",
      "saving data\n"
     ]
    },
    {
     "name": "stderr",
     "output_type": "stream",
     "text": [
      "evaluation score: 0.018199999999999997: 100%|██████████| 10000/10000 [00:35<00:00, 284.79it/s]\n",
      "evaluation score: 0.0185: 100%|██████████| 10000/10000 [00:34<00:00, 286.20it/s]\n",
      "evaluation score: 0.018166666666666664: 100%|██████████| 10000/10000 [00:35<00:00, 278.36it/s]\n",
      "evaluation score: 0.01753333333333333: 100%|██████████| 10000/10000 [00:35<00:00, 284.26it/s]\n",
      "evaluation score: 0.017966666666666666: 100%|██████████| 10000/10000 [00:36<00:00, 276.23it/s]\n",
      " 28%|██▊       | 14/50 [51:25<2:09:27, 215.77s/it]"
     ]
    },
    {
     "name": "stdout",
     "output_type": "stream",
     "text": [
      "[0.23906140816807947, 0.5141811959726781, -1, 0.5255735566633762, 0.18740837726606507, 0.41116315256032143]\n",
      "saving data\n"
     ]
    },
    {
     "name": "stderr",
     "output_type": "stream",
     "text": [
      "evaluation score: 0.018333333333333333: 100%|██████████| 10000/10000 [00:36<00:00, 275.41it/s]\n",
      "evaluation score: 0.018433333333333333: 100%|██████████| 10000/10000 [00:36<00:00, 277.19it/s]\n",
      "evaluation score: 0.018533333333333332: 100%|██████████| 10000/10000 [00:35<00:00, 284.22it/s]\n",
      "evaluation score: 0.017633333333333334: 100%|██████████| 10000/10000 [00:35<00:00, 284.61it/s]\n",
      "evaluation score: 0.017966666666666666: 100%|██████████| 10000/10000 [00:34<00:00, 287.80it/s]\n",
      " 30%|███       | 15/50 [55:01<2:05:52, 215.78s/it]"
     ]
    },
    {
     "name": "stdout",
     "output_type": "stream",
     "text": [
      "[0.34416743365007885, 0.6145209603675562, -1, -0.0894922333306698, 0.6125455075030038, 0.44784372953599644]\n",
      "saving data\n"
     ]
    },
    {
     "name": "stderr",
     "output_type": "stream",
     "text": [
      "evaluation score: 0.018466666666666666: 100%|██████████| 10000/10000 [00:36<00:00, 273.36it/s]\n",
      "evaluation score: 0.01813333333333333: 100%|██████████| 10000/10000 [00:34<00:00, 287.51it/s]\n",
      "evaluation score: 0.018266666666666667: 100%|██████████| 10000/10000 [00:34<00:00, 287.97it/s]\n",
      "evaluation score: 0.017666666666666664: 100%|██████████| 10000/10000 [00:36<00:00, 277.70it/s]\n",
      "evaluation score: 0.017966666666666666: 100%|██████████| 10000/10000 [00:34<00:00, 286.53it/s]\n",
      " 32%|███▏      | 16/50 [58:35<2:02:03, 215.39s/it]"
     ]
    },
    {
     "name": "stdout",
     "output_type": "stream",
     "text": [
      "[0.6025456062703958, 0.7802149322642293, -1, 0.818857077290048, 0.35275421115440087, 0.598150799038328]\n",
      "saving data\n"
     ]
    },
    {
     "name": "stderr",
     "output_type": "stream",
     "text": [
      "evaluation score: 0.018166666666666668: 100%|██████████| 10000/10000 [00:36<00:00, 274.72it/s]\n",
      "evaluation score: 0.018566666666666665: 100%|██████████| 10000/10000 [00:35<00:00, 281.10it/s]\n",
      "evaluation score: 0.0188: 100%|██████████| 10000/10000 [00:34<00:00, 293.36it/s]\n",
      "evaluation score: 0.018: 100%|██████████| 10000/10000 [00:35<00:00, 282.82it/s]\n",
      "evaluation score: 0.017966666666666666: 100%|██████████| 10000/10000 [00:35<00:00, 280.39it/s]\n",
      " 34%|███▍      | 17/50 [1:02:10<1:58:19, 215.15s/it]"
     ]
    },
    {
     "name": "stdout",
     "output_type": "stream",
     "text": [
      "[0.2648811191212887, 0.38225657762845555, -1, 0.5969218149843758, 0.5904932319245583, 0.39096996559810776]\n",
      "saving data\n"
     ]
    },
    {
     "name": "stderr",
     "output_type": "stream",
     "text": [
      "evaluation score: 0.018799999999999997: 100%|██████████| 10000/10000 [00:36<00:00, 273.42it/s]\n",
      "evaluation score: 0.01823333333333333: 100%|██████████| 10000/10000 [00:35<00:00, 278.03it/s]\n",
      "evaluation score: 0.0185: 100%|██████████| 10000/10000 [00:35<00:00, 282.15it/s]\n",
      "evaluation score: 0.017599999999999998: 100%|██████████| 10000/10000 [00:34<00:00, 290.31it/s]\n",
      "evaluation score: 0.017966666666666666: 100%|██████████| 10000/10000 [00:35<00:00, 281.38it/s]\n",
      " 36%|███▌      | 18/50 [1:05:46<1:54:51, 215.34s/it]"
     ]
    },
    {
     "name": "stdout",
     "output_type": "stream",
     "text": [
      "[0.2534637064438604, 0.37693797007822527, -1, 0.3551630438581023, 0.24029681297051383, 0.38537215324874147]\n",
      "saving data\n"
     ]
    },
    {
     "name": "stderr",
     "output_type": "stream",
     "text": [
      "evaluation score: 0.0182: 100%|██████████| 10000/10000 [00:35<00:00, 277.91it/s]\n",
      "evaluation score: 0.017933333333333332: 100%|██████████| 10000/10000 [00:35<00:00, 279.37it/s]\n",
      "evaluation score: 0.017666666666666667: 100%|██████████| 10000/10000 [00:35<00:00, 280.13it/s]\n",
      "evaluation score: 0.017466666666666665: 100%|██████████| 10000/10000 [00:34<00:00, 291.26it/s]\n",
      "evaluation score: 0.017966666666666666: 100%|██████████| 10000/10000 [00:34<00:00, 287.70it/s]\n",
      " 38%|███▊      | 19/50 [1:09:21<1:51:16, 215.36s/it]"
     ]
    },
    {
     "name": "stdout",
     "output_type": "stream",
     "text": [
      "[0.28090220650154873, 0.47236392809275835, -1, 0.8188570772900479, 0.36286188489237303, 0.4290605039467594]\n",
      "saving data\n"
     ]
    },
    {
     "name": "stderr",
     "output_type": "stream",
     "text": [
      "evaluation score: 0.017966666666666666: 100%|██████████| 10000/10000 [00:36<00:00, 275.18it/s]\n",
      "evaluation score: 0.018: 100%|██████████| 10000/10000 [00:34<00:00, 290.74it/s]\n",
      "evaluation score: 0.0185: 100%|██████████| 10000/10000 [00:35<00:00, 281.15it/s]\n",
      "evaluation score: 0.018066666666666665: 100%|██████████| 10000/10000 [00:35<00:00, 279.97it/s]\n",
      "evaluation score: 0.017966666666666666: 100%|██████████| 10000/10000 [00:34<00:00, 293.07it/s]\n",
      " 40%|████      | 20/50 [1:12:55<1:47:30, 215.00s/it]"
     ]
    },
    {
     "name": "stdout",
     "output_type": "stream",
     "text": [
      "[0.4786142736001998, 0.33474778882555883, -1, -0.38426337177255526, 0.18805706417310314, 0.3800943855818728]\n",
      "saving data\n"
     ]
    },
    {
     "name": "stderr",
     "output_type": "stream",
     "text": [
      "evaluation score: 0.018333333333333333: 100%|██████████| 10000/10000 [00:36<00:00, 277.09it/s]\n",
      "evaluation score: 0.0186: 100%|██████████| 10000/10000 [00:34<00:00, 287.71it/s]\n",
      "evaluation score: 0.018299999999999997: 100%|██████████| 10000/10000 [00:34<00:00, 286.12it/s]\n",
      "evaluation score: 0.017499999999999998: 100%|██████████| 10000/10000 [00:35<00:00, 281.10it/s]\n",
      "evaluation score: 0.017966666666666666: 100%|██████████| 10000/10000 [00:35<00:00, 281.83it/s]\n",
      " 42%|████▏     | 21/50 [1:16:29<1:43:47, 214.75s/it]"
     ]
    },
    {
     "name": "stdout",
     "output_type": "stream",
     "text": [
      "[0.2962193710814151, 0.46109793886279193, -1, 0.598117931939419, 0.6198935331985017, 0.3780559878139194]\n",
      "saving data\n"
     ]
    },
    {
     "name": "stderr",
     "output_type": "stream",
     "text": [
      "evaluation score: 0.018933333333333333: 100%|██████████| 10000/10000 [00:36<00:00, 277.49it/s]\n",
      "evaluation score: 0.018066666666666665: 100%|██████████| 10000/10000 [00:35<00:00, 283.68it/s]\n",
      "evaluation score: 0.0185: 100%|██████████| 10000/10000 [00:34<00:00, 287.13it/s]\n",
      "evaluation score: 0.018266666666666667: 100%|██████████| 10000/10000 [00:35<00:00, 279.34it/s]\n",
      "evaluation score: 0.017966666666666666: 100%|██████████| 10000/10000 [00:35<00:00, 281.46it/s]\n",
      " 44%|████▍     | 22/50 [1:20:04<1:40:11, 214.69s/it]"
     ]
    },
    {
     "name": "stdout",
     "output_type": "stream",
     "text": [
      "[0.48127471290807233, 0.14538341137911787, -1, 0.38269213408964536, 0.5537230298467449, 0.6043581394365234]\n",
      "saving data\n"
     ]
    },
    {
     "name": "stderr",
     "output_type": "stream",
     "text": [
      "evaluation score: 0.018699999999999998: 100%|██████████| 10000/10000 [00:35<00:00, 280.15it/s]\n",
      "evaluation score: 0.0185: 100%|██████████| 10000/10000 [00:35<00:00, 283.53it/s]\n",
      "evaluation score: 0.0185: 100%|██████████| 10000/10000 [00:35<00:00, 280.80it/s]\n",
      "evaluation score: 0.017966666666666666: 100%|██████████| 10000/10000 [00:34<00:00, 286.33it/s]\n",
      "evaluation score: 0.017966666666666666: 100%|██████████| 10000/10000 [00:35<00:00, 280.81it/s]\n",
      " 46%|████▌     | 23/50 [1:23:39<1:36:41, 214.88s/it]"
     ]
    },
    {
     "name": "stdout",
     "output_type": "stream",
     "text": [
      "[0.30863756316129987, 0.818857077290048, -1, 0.3996641673299087, 0.21685414551270077, 0.5754576111408136]\n",
      "saving data\n"
     ]
    },
    {
     "name": "stderr",
     "output_type": "stream",
     "text": [
      "evaluation score: 0.0182: 100%|██████████| 10000/10000 [00:35<00:00, 280.27it/s]\n",
      "evaluation score: 0.017766666666666667: 100%|██████████| 10000/10000 [00:35<00:00, 285.52it/s]\n",
      "evaluation score: 0.0185: 100%|██████████| 10000/10000 [00:35<00:00, 278.84it/s]\n",
      "evaluation score: 0.0179: 100%|██████████| 10000/10000 [00:35<00:00, 284.87it/s]\n",
      "evaluation score: 0.017966666666666666: 100%|██████████| 10000/10000 [00:35<00:00, 280.53it/s]\n",
      " 48%|████▊     | 24/50 [1:27:15<1:33:11, 215.06s/it]"
     ]
    },
    {
     "name": "stdout",
     "output_type": "stream",
     "text": [
      "[0.26220597950634833, 0.4281071393162447, -1, 0.773536548801554, 0.41677625544005253, 0.5888504145258904]\n",
      "saving data\n"
     ]
    },
    {
     "name": "stderr",
     "output_type": "stream",
     "text": [
      "evaluation score: 0.0188: 100%|██████████| 10000/10000 [00:36<00:00, 273.01it/s]\n",
      "evaluation score: 0.0177: 100%|██████████| 10000/10000 [00:34<00:00, 292.39it/s]\n",
      "evaluation score: 0.0182: 100%|██████████| 10000/10000 [00:36<00:00, 274.37it/s]\n",
      "evaluation score: 0.017566666666666664: 100%|██████████| 10000/10000 [00:39<00:00, 255.51it/s]\n",
      "evaluation score: 0.017966666666666666: 100%|██████████| 10000/10000 [00:38<00:00, 260.67it/s]\n",
      " 50%|█████     | 25/50 [1:30:58<1:30:39, 217.58s/it]"
     ]
    },
    {
     "name": "stdout",
     "output_type": "stream",
     "text": [
      "[0.24874610866250266, 0.18586793720967335, -1, 0.23321987192034413, 0.18430884919645668, 0.45803618755904246]\n",
      "saving data\n"
     ]
    },
    {
     "name": "stderr",
     "output_type": "stream",
     "text": [
      "evaluation score: 0.0184: 100%|██████████| 10000/10000 [00:40<00:00, 246.88it/s]\n",
      "evaluation score: 0.01843333333333333: 100%|██████████| 10000/10000 [00:38<00:00, 262.86it/s]\n",
      "evaluation score: 0.018299999999999997: 100%|██████████| 10000/10000 [00:37<00:00, 267.45it/s]\n",
      "evaluation score: 0.01806666666666666: 100%|██████████| 10000/10000 [00:39<00:00, 253.11it/s]\n",
      "evaluation score: 0.017966666666666666: 100%|██████████| 10000/10000 [00:39<00:00, 256.22it/s]\n",
      " 52%|█████▏    | 26/50 [1:34:53<1:29:07, 222.80s/it]"
     ]
    },
    {
     "name": "stdout",
     "output_type": "stream",
     "text": [
      "[0.24957310325418453, 0.2340684344736986, -1, 0.43789038006331876, 0.19690405532922806, 0.598150799038328]\n",
      "saving data\n"
     ]
    },
    {
     "name": "stderr",
     "output_type": "stream",
     "text": [
      "evaluation score: 0.018366666666666667: 100%|██████████| 10000/10000 [00:40<00:00, 246.24it/s]\n",
      "evaluation score: 0.0183: 100%|██████████| 10000/10000 [00:38<00:00, 257.15it/s]\n",
      "evaluation score: 0.0183: 100%|██████████| 10000/10000 [00:37<00:00, 267.67it/s]\n",
      "evaluation score: 0.017766666666666667: 100%|██████████| 10000/10000 [00:35<00:00, 277.98it/s]\n",
      "evaluation score: 0.017966666666666666: 100%|██████████| 10000/10000 [00:35<00:00, 283.38it/s]\n",
      " 54%|█████▍    | 27/50 [1:38:41<1:26:00, 224.38s/it]"
     ]
    },
    {
     "name": "stdout",
     "output_type": "stream",
     "text": [
      "[0.2738841333018508, 0.3036785292775686, -1, 0.3383874727992825, 0.4024440082845423, 0.5737802842996848]\n",
      "saving data\n"
     ]
    },
    {
     "name": "stderr",
     "output_type": "stream",
     "text": [
      "evaluation score: 0.018233333333333334: 100%|██████████| 10000/10000 [00:36<00:00, 274.52it/s]\n",
      "evaluation score: 0.018666666666666665: 100%|██████████| 10000/10000 [00:35<00:00, 279.97it/s]\n",
      "evaluation score: 0.018766666666666668: 100%|██████████| 10000/10000 [00:34<00:00, 293.79it/s]\n",
      "evaluation score: 0.017533333333333335: 100%|██████████| 10000/10000 [00:35<00:00, 285.40it/s]\n",
      "evaluation score: 0.017966666666666666: 100%|██████████| 10000/10000 [00:35<00:00, 282.52it/s]\n",
      " 56%|█████▌    | 28/50 [1:42:15<1:21:09, 221.32s/it]"
     ]
    },
    {
     "name": "stdout",
     "output_type": "stream",
     "text": [
      "[0.2734245884215032, 0.4005180721558373, -1, 0.4392856334438214, 0.4077423634569152, 0.4605779432570057]\n",
      "saving data\n"
     ]
    },
    {
     "name": "stderr",
     "output_type": "stream",
     "text": [
      "evaluation score: 0.01833333333333333: 100%|██████████| 10000/10000 [00:36<00:00, 274.64it/s]\n",
      "evaluation score: 0.018533333333333332: 100%|██████████| 10000/10000 [00:35<00:00, 280.41it/s]\n",
      "evaluation score: 0.018699999999999998: 100%|██████████| 10000/10000 [00:35<00:00, 282.78it/s]\n",
      "evaluation score: 0.017833333333333333: 100%|██████████| 10000/10000 [00:34<00:00, 288.75it/s]\n",
      "evaluation score: 0.017966666666666666: 100%|██████████| 10000/10000 [00:35<00:00, 278.53it/s]\n",
      " 58%|█████▊    | 29/50 [1:45:51<1:16:49, 219.51s/it]"
     ]
    },
    {
     "name": "stdout",
     "output_type": "stream",
     "text": [
      "[0.44181180094250255, 0.6200243440560632, -1, 0.7718570106701632, 0.6074274952041135, 0.4058413588457357]\n",
      "saving data\n"
     ]
    },
    {
     "name": "stderr",
     "output_type": "stream",
     "text": [
      "evaluation score: 0.018000000000000002: 100%|██████████| 10000/10000 [00:35<00:00, 277.96it/s]\n",
      "evaluation score: 0.017833333333333333: 100%|██████████| 10000/10000 [00:36<00:00, 273.86it/s]\n",
      "evaluation score: 0.018333333333333333: 100%|██████████| 10000/10000 [00:36<00:00, 270.94it/s]\n",
      "evaluation score: 0.01763333333333333: 100%|██████████| 10000/10000 [00:34<00:00, 292.26it/s]\n",
      "evaluation score: 0.017966666666666666: 100%|██████████| 10000/10000 [00:35<00:00, 281.81it/s]\n",
      " 60%|██████    | 30/50 [1:49:28<1:12:59, 218.98s/it]"
     ]
    },
    {
     "name": "stdout",
     "output_type": "stream",
     "text": [
      "[0.28027987031663504, 0.45638126047337174, -1, 0.4024659568842827, 0.44474426968547637, 0.37352403718387467]\n",
      "saving data\n"
     ]
    },
    {
     "name": "stderr",
     "output_type": "stream",
     "text": [
      "evaluation score: 0.018266666666666667: 100%|██████████| 10000/10000 [00:36<00:00, 275.33it/s]\n",
      "evaluation score: 0.0185: 100%|██████████| 10000/10000 [00:34<00:00, 285.81it/s]\n",
      "evaluation score: 0.0183: 100%|██████████| 10000/10000 [00:35<00:00, 281.11it/s]\n",
      "evaluation score: 0.01823333333333333: 100%|██████████| 10000/10000 [00:35<00:00, 283.15it/s]\n",
      "evaluation score: 0.017966666666666666: 100%|██████████| 10000/10000 [00:34<00:00, 290.68it/s]\n",
      " 62%|██████▏   | 31/50 [1:53:03<1:08:57, 217.75s/it]"
     ]
    },
    {
     "name": "stdout",
     "output_type": "stream",
     "text": [
      "[0.4359187036226686, 0.3098746859107218, -1, 0.7736525037308268, 0.17289963947078418, 0.4217967320744802]\n",
      "saving data\n"
     ]
    },
    {
     "name": "stderr",
     "output_type": "stream",
     "text": [
      "evaluation score: 0.0183: 100%|██████████| 10000/10000 [00:36<00:00, 276.63it/s]\n",
      "evaluation score: 0.018033333333333332: 100%|██████████| 10000/10000 [00:34<00:00, 287.82it/s]\n",
      "evaluation score: 0.01863333333333333: 100%|██████████| 10000/10000 [00:35<00:00, 283.88it/s]\n",
      "evaluation score: 0.017599999999999998: 100%|██████████| 10000/10000 [00:36<00:00, 273.85it/s]\n",
      "evaluation score: 0.017966666666666666: 100%|██████████| 10000/10000 [00:35<00:00, 282.46it/s]\n",
      " 64%|██████▍   | 32/50 [1:56:39<1:05:06, 217.01s/it]"
     ]
    },
    {
     "name": "stdout",
     "output_type": "stream",
     "text": [
      "[0.2657724895944661, 0.3685778705500316, -1, 0.818857077290048, 0.164035120946335, 0.44558169192615366]\n",
      "saving data\n"
     ]
    },
    {
     "name": "stderr",
     "output_type": "stream",
     "text": [
      "evaluation score: 0.01863333333333333: 100%|██████████| 10000/10000 [00:36<00:00, 272.85it/s]\n",
      "evaluation score: 0.018333333333333333: 100%|██████████| 10000/10000 [00:36<00:00, 275.90it/s]\n",
      "evaluation score: 0.0186: 100%|██████████| 10000/10000 [00:35<00:00, 284.93it/s]\n",
      "evaluation score: 0.01753333333333333: 100%|██████████| 10000/10000 [00:35<00:00, 279.72it/s]\n",
      "evaluation score: 0.017966666666666666: 100%|██████████| 10000/10000 [00:36<00:00, 275.34it/s]\n",
      " 66%|██████▌   | 33/50 [2:00:16<1:01:29, 217.05s/it]"
     ]
    },
    {
     "name": "stdout",
     "output_type": "stream",
     "text": [
      "[0.2562392668675712, 0.42575075488001995, -1, 0.3959997166226035, 0.12207204934275766, 0.41204267232754704]\n",
      "saving data\n"
     ]
    },
    {
     "name": "stderr",
     "output_type": "stream",
     "text": [
      "evaluation score: 0.018099999999999998: 100%|██████████| 10000/10000 [00:35<00:00, 279.40it/s]\n",
      "evaluation score: 0.018533333333333332: 100%|██████████| 10000/10000 [00:35<00:00, 281.10it/s]\n",
      "evaluation score: 0.018466666666666666: 100%|██████████| 10000/10000 [00:35<00:00, 282.67it/s]\n",
      "evaluation score: 0.0177: 100%|██████████| 10000/10000 [00:36<00:00, 276.84it/s]\n",
      "evaluation score: 0.017966666666666666: 100%|██████████| 10000/10000 [00:36<00:00, 276.27it/s]\n",
      " 68%|██████▊   | 34/50 [2:03:52<57:50, 216.91s/it]  "
     ]
    },
    {
     "name": "stdout",
     "output_type": "stream",
     "text": [
      "[0.27517668549987356, 0.6049900716171744, -1, 0.8188570772900479, 0.2664794054445715, 0.40640529582005597]\n",
      "saving data\n"
     ]
    },
    {
     "name": "stderr",
     "output_type": "stream",
     "text": [
      "evaluation score: 0.01813333333333333: 100%|██████████| 10000/10000 [00:35<00:00, 283.47it/s]\n",
      "evaluation score: 0.018266666666666664: 100%|██████████| 10000/10000 [00:34<00:00, 286.34it/s]\n",
      "evaluation score: 0.018433333333333333: 100%|██████████| 10000/10000 [00:35<00:00, 282.39it/s]\n",
      "evaluation score: 0.017699999999999997: 100%|██████████| 10000/10000 [00:34<00:00, 288.92it/s]\n",
      "evaluation score: 0.017966666666666666: 100%|██████████| 10000/10000 [00:35<00:00, 285.46it/s]\n",
      " 70%|███████   | 35/50 [2:07:26<53:59, 215.94s/it]"
     ]
    },
    {
     "name": "stdout",
     "output_type": "stream",
     "text": [
      "[0.30785478160300445, 0.5908278938093142, -1, 0.16935120718670424, 0.3671903455349984, 0.5962441638930452]\n",
      "saving data\n"
     ]
    },
    {
     "name": "stderr",
     "output_type": "stream",
     "text": [
      "evaluation score: 0.018666666666666665: 100%|██████████| 10000/10000 [00:36<00:00, 275.81it/s]\n",
      "evaluation score: 0.0185: 100%|██████████| 10000/10000 [00:36<00:00, 275.60it/s]\n",
      "evaluation score: 0.018766666666666668: 100%|██████████| 10000/10000 [00:37<00:00, 265.26it/s]\n",
      "evaluation score: 0.01773333333333333: 100%|██████████| 10000/10000 [00:38<00:00, 259.25it/s]\n",
      "evaluation score: 0.017966666666666666: 100%|██████████| 10000/10000 [00:38<00:00, 263.02it/s]\n",
      " 72%|███████▏  | 36/50 [2:11:11<51:02, 218.78s/it]"
     ]
    },
    {
     "name": "stdout",
     "output_type": "stream",
     "text": [
      "[0.32945830681137633, 0.29097775714605917, -1, 0.47477853947096577, 0.38841174495447545, 0.4328136448081713]\n",
      "saving data\n"
     ]
    },
    {
     "name": "stderr",
     "output_type": "stream",
     "text": [
      "evaluation score: 0.018033333333333332: 100%|██████████| 10000/10000 [00:39<00:00, 251.47it/s]\n",
      "evaluation score: 0.018433333333333333: 100%|██████████| 10000/10000 [00:36<00:00, 270.57it/s]\n",
      "evaluation score: 0.018666666666666668: 100%|██████████| 10000/10000 [00:38<00:00, 262.53it/s]\n",
      "evaluation score: 0.01823333333333333: 100%|██████████| 10000/10000 [00:38<00:00, 258.98it/s]\n",
      "evaluation score: 0.017966666666666666: 100%|██████████| 10000/10000 [00:38<00:00, 262.02it/s]\n",
      " 74%|███████▍  | 37/50 [2:15:03<48:15, 222.70s/it]"
     ]
    },
    {
     "name": "stdout",
     "output_type": "stream",
     "text": [
      "[0.2992361287630589, 0.8188570772900479, -1, 0.3402600124381695, 0.3053722756429885, 0.36666660473065243]\n",
      "saving data\n"
     ]
    },
    {
     "name": "stderr",
     "output_type": "stream",
     "text": [
      "evaluation score: 0.018433333333333333: 100%|██████████| 10000/10000 [00:39<00:00, 252.11it/s]\n",
      "evaluation score: 0.018433333333333333: 100%|██████████| 10000/10000 [00:37<00:00, 269.33it/s]\n",
      "evaluation score: 0.01823333333333333: 100%|██████████| 10000/10000 [00:37<00:00, 267.11it/s]\n",
      "evaluation score: 0.017933333333333332: 100%|██████████| 10000/10000 [00:39<00:00, 254.98it/s]\n",
      "evaluation score: 0.017966666666666666: 100%|██████████| 10000/10000 [00:38<00:00, 261.04it/s]\n",
      " 76%|███████▌  | 38/50 [2:18:55<45:04, 225.34s/it]"
     ]
    },
    {
     "name": "stdout",
     "output_type": "stream",
     "text": [
      "[0.285117584868153, 0.3869663822412441, -1, 0.025614485410081933, 0.372336670047306, 0.4006364543735153]\n",
      "saving data\n"
     ]
    },
    {
     "name": "stderr",
     "output_type": "stream",
     "text": [
      "evaluation score: 0.018666666666666665: 100%|██████████| 10000/10000 [00:39<00:00, 250.33it/s]\n",
      "evaluation score: 0.017933333333333332: 100%|██████████| 10000/10000 [00:37<00:00, 264.72it/s]\n",
      "evaluation score: 0.01863333333333333: 100%|██████████| 10000/10000 [00:36<00:00, 271.60it/s]\n",
      "evaluation score: 0.018333333333333333: 100%|██████████| 10000/10000 [00:39<00:00, 256.02it/s]\n",
      "evaluation score: 0.017966666666666666: 100%|██████████| 10000/10000 [00:38<00:00, 260.30it/s]\n",
      " 78%|███████▊  | 39/50 [2:22:46<41:38, 227.14s/it]"
     ]
    },
    {
     "name": "stdout",
     "output_type": "stream",
     "text": [
      "[0.4702225110835146, -0.1157281214833536, -1, 0.47323700721240963, 0.5874681706822137, 0.21393742111519737]\n",
      "saving data\n"
     ]
    },
    {
     "name": "stderr",
     "output_type": "stream",
     "text": [
      "evaluation score: 0.018466666666666666: 100%|██████████| 10000/10000 [00:40<00:00, 249.98it/s]\n",
      "evaluation score: 0.018233333333333334: 100%|██████████| 10000/10000 [00:38<00:00, 259.44it/s]\n",
      "evaluation score: 0.018533333333333332: 100%|██████████| 10000/10000 [00:36<00:00, 271.95it/s]\n",
      "evaluation score: 0.018000000000000002: 100%|██████████| 10000/10000 [00:39<00:00, 254.72it/s]\n",
      "evaluation score: 0.017966666666666666: 100%|██████████| 10000/10000 [00:38<00:00, 260.54it/s]\n",
      " 80%|████████  | 40/50 [2:26:38<38:06, 228.65s/it]"
     ]
    },
    {
     "name": "stdout",
     "output_type": "stream",
     "text": [
      "[0.2295370311759982, 0.4038104747269792, -1, -0.4099531246623583, 0.6074274952041135, 0.595479992531195]\n",
      "saving data\n"
     ]
    },
    {
     "name": "stderr",
     "output_type": "stream",
     "text": [
      "evaluation score: 0.018333333333333333: 100%|██████████| 10000/10000 [00:39<00:00, 252.79it/s]\n",
      "evaluation score: 0.018266666666666667: 100%|██████████| 10000/10000 [00:38<00:00, 256.50it/s]\n",
      "evaluation score: 0.018699999999999998: 100%|██████████| 10000/10000 [00:36<00:00, 271.26it/s]\n",
      "evaluation score: 0.017466666666666665: 100%|██████████| 10000/10000 [00:38<00:00, 257.41it/s]\n",
      "evaluation score: 0.017966666666666666: 100%|██████████| 10000/10000 [00:38<00:00, 257.67it/s]\n",
      " 82%|████████▏ | 41/50 [2:30:30<34:27, 229.70s/it]"
     ]
    },
    {
     "name": "stdout",
     "output_type": "stream",
     "text": [
      "[0.3034475899398737, 0.4540776571371576, -1, 0.410039299110931, 0.24631029084993789, 0.6052067928887868]\n",
      "saving data\n"
     ]
    },
    {
     "name": "stderr",
     "output_type": "stream",
     "text": [
      "evaluation score: 0.018166666666666664: 100%|██████████| 10000/10000 [00:39<00:00, 255.41it/s]\n",
      "evaluation score: 0.018366666666666663: 100%|██████████| 10000/10000 [00:38<00:00, 257.15it/s]\n",
      "evaluation score: 0.018566666666666665: 100%|██████████| 10000/10000 [00:36<00:00, 270.84it/s]\n",
      "evaluation score: 0.018533333333333332: 100%|██████████| 10000/10000 [00:37<00:00, 264.23it/s]\n",
      "evaluation score: 0.017966666666666666: 100%|██████████| 10000/10000 [00:38<00:00, 257.68it/s]\n",
      " 84%|████████▍ | 42/50 [2:34:21<30:40, 230.04s/it]"
     ]
    },
    {
     "name": "stdout",
     "output_type": "stream",
     "text": [
      "[0.2684056204487818, 0.24322451818306878, -1, 0.351226458177722, 0.3756977482336609, 0.41807310324078295]\n",
      "saving data\n"
     ]
    },
    {
     "name": "stderr",
     "output_type": "stream",
     "text": [
      "evaluation score: 0.0186: 100%|██████████| 10000/10000 [00:38<00:00, 259.91it/s]\n",
      "evaluation score: 0.017066666666666664: 100%|██████████| 10000/10000 [00:38<00:00, 259.95it/s]\n",
      "evaluation score: 0.018566666666666665: 100%|██████████| 10000/10000 [00:36<00:00, 271.14it/s]\n",
      "evaluation score: 0.017566666666666664: 100%|██████████| 10000/10000 [00:37<00:00, 270.26it/s]\n",
      "evaluation score: 0.017966666666666666: 100%|██████████| 10000/10000 [00:38<00:00, 257.21it/s]\n",
      " 86%|████████▌ | 43/50 [2:38:10<26:47, 229.71s/it]"
     ]
    },
    {
     "name": "stdout",
     "output_type": "stream",
     "text": [
      "[0.29478245041801293, 0.7882700210314301, -1, -0.40552347945533407, 0.16259469236443125, 0.40613668188963176]\n",
      "saving data\n"
     ]
    },
    {
     "name": "stderr",
     "output_type": "stream",
     "text": [
      "evaluation score: 0.018433333333333333: 100%|██████████| 10000/10000 [00:38<00:00, 258.58it/s]\n",
      "evaluation score: 0.0184: 100%|██████████| 10000/10000 [00:38<00:00, 259.94it/s]\n",
      "evaluation score: 0.018: 100%|██████████| 10000/10000 [00:37<00:00, 265.48it/s]\n",
      "evaluation score: 0.017233333333333333: 100%|██████████| 10000/10000 [00:36<00:00, 274.65it/s]\n",
      "evaluation score: 0.017966666666666666: 100%|██████████| 10000/10000 [00:38<00:00, 258.31it/s]\n",
      " 88%|████████▊ | 44/50 [2:42:00<22:57, 229.64s/it]"
     ]
    },
    {
     "name": "stdout",
     "output_type": "stream",
     "text": [
      "[0.2707098710791789, 0.5351549868948958, -1, 0.34242114694481257, 0.5896108454797955, 0.5679500263756918]\n",
      "saving data\n"
     ]
    },
    {
     "name": "stderr",
     "output_type": "stream",
     "text": [
      "evaluation score: 0.0176: 100%|██████████| 10000/10000 [00:38<00:00, 262.89it/s]\n",
      "evaluation score: 0.01813333333333333: 100%|██████████| 10000/10000 [00:37<00:00, 266.57it/s]\n",
      "evaluation score: 0.018466666666666666: 100%|██████████| 10000/10000 [00:37<00:00, 268.73it/s]\n",
      "evaluation score: 0.017566666666666668: 100%|██████████| 10000/10000 [00:36<00:00, 277.49it/s]\n",
      "evaluation score: 0.017966666666666666: 100%|██████████| 10000/10000 [00:37<00:00, 266.74it/s]\n",
      " 90%|█████████ | 45/50 [2:45:45<19:02, 228.44s/it]"
     ]
    },
    {
     "name": "stdout",
     "output_type": "stream",
     "text": [
      "[0.4434885414318179, 0.362396452257922, -1, 0.4378903800633189, 0.23774397962199648, 0.3909084544784986]\n",
      "saving data\n"
     ]
    },
    {
     "name": "stderr",
     "output_type": "stream",
     "text": [
      "evaluation score: 0.017866666666666666: 100%|██████████| 10000/10000 [00:38<00:00, 262.02it/s]\n",
      "evaluation score: 0.018366666666666667: 100%|██████████| 10000/10000 [00:37<00:00, 268.51it/s]\n",
      "evaluation score: 0.018333333333333333: 100%|██████████| 10000/10000 [00:38<00:00, 260.06it/s]\n",
      "evaluation score: 0.01743333333333333: 100%|██████████| 10000/10000 [00:36<00:00, 274.20it/s]\n",
      "evaluation score: 0.017966666666666666: 100%|██████████| 10000/10000 [00:36<00:00, 270.60it/s]\n",
      " 92%|█████████▏| 46/50 [2:49:32<15:11, 227.91s/it]"
     ]
    },
    {
     "name": "stdout",
     "output_type": "stream",
     "text": [
      "[0.2417747528264841, 0.6080908898734279, -1, 0.13674394945074675, 0.2090527339738461, 0.37330638532728005]\n",
      "saving data\n"
     ]
    },
    {
     "name": "stderr",
     "output_type": "stream",
     "text": [
      "evaluation score: 0.0182: 100%|██████████| 10000/10000 [00:39<00:00, 255.04it/s]\n",
      "evaluation score: 0.018533333333333332: 100%|██████████| 10000/10000 [00:37<00:00, 268.75it/s]\n",
      "evaluation score: 0.0186: 100%|██████████| 10000/10000 [00:38<00:00, 260.73it/s]\n",
      "evaluation score: 0.0177: 100%|██████████| 10000/10000 [00:37<00:00, 269.25it/s]\n",
      "evaluation score: 0.017966666666666666: 100%|██████████| 10000/10000 [00:36<00:00, 274.20it/s]\n",
      " 94%|█████████▍| 47/50 [2:53:20<11:23, 227.92s/it]"
     ]
    },
    {
     "name": "stdout",
     "output_type": "stream",
     "text": [
      "[0.29993059574963155, 0.14535849015145458, -1, 0.26779379649968404, 0.5534016796343201, 0.21393742111519742]\n",
      "saving data\n"
     ]
    },
    {
     "name": "stderr",
     "output_type": "stream",
     "text": [
      "evaluation score: 0.01883333333333333: 100%|██████████| 10000/10000 [00:38<00:00, 257.00it/s]\n",
      "evaluation score: 0.017733333333333334: 100%|██████████| 10000/10000 [00:36<00:00, 271.26it/s]\n",
      "evaluation score: 0.0179: 100%|██████████| 10000/10000 [00:37<00:00, 264.31it/s]\n",
      "evaluation score: 0.017166666666666667: 100%|██████████| 10000/10000 [00:38<00:00, 259.19it/s]\n",
      "evaluation score: 0.017966666666666666: 100%|██████████| 10000/10000 [00:38<00:00, 259.65it/s]\n",
      " 96%|█████████▌| 48/50 [2:57:10<07:37, 228.62s/it]"
     ]
    },
    {
     "name": "stdout",
     "output_type": "stream",
     "text": [
      "[0.2753849543800475, 0.46865404383891646, -1, 0.2835128930776285, 0.6074274952041135, 0.4181682867679358]\n",
      "saving data\n"
     ]
    },
    {
     "name": "stderr",
     "output_type": "stream",
     "text": [
      "evaluation score: 0.018533333333333332: 100%|██████████| 10000/10000 [00:39<00:00, 255.50it/s]\n",
      "evaluation score: 0.01823333333333333: 100%|██████████| 10000/10000 [01:00<00:00, 165.73it/s]\n",
      "evaluation score: 0.018466666666666666: 100%|██████████| 10000/10000 [00:39<00:00, 255.52it/s]\n",
      "evaluation score: 0.017199999999999997: 100%|██████████| 10000/10000 [00:40<00:00, 249.36it/s]\n",
      "evaluation score: 0.017966666666666666: 100%|██████████| 10000/10000 [00:38<00:00, 257.17it/s]\n",
      " 98%|█████████▊| 49/50 [3:01:29<03:57, 237.77s/it]"
     ]
    },
    {
     "name": "stdout",
     "output_type": "stream",
     "text": [
      "[0.2733531924665259, 0.39836458513750983, -1, 0.425365076575279, 0.34035490838829147, 0.5772898282302897]\n",
      "saving data\n"
     ]
    },
    {
     "name": "stderr",
     "output_type": "stream",
     "text": [
      "evaluation score: 0.018166666666666664: 100%|██████████| 10000/10000 [00:38<00:00, 261.89it/s]\n",
      "evaluation score: 0.018533333333333332: 100%|██████████| 10000/10000 [00:38<00:00, 256.63it/s]\n",
      "evaluation score: 0.018333333333333333: 100%|██████████| 10000/10000 [00:38<00:00, 259.83it/s]\n",
      "evaluation score: 0.018: 100%|██████████| 10000/10000 [01:06<00:00, 149.50it/s]\n",
      "evaluation score: 0.017966666666666666: 100%|██████████| 10000/10000 [00:37<00:00, 265.85it/s]\n",
      "100%|██████████| 50/50 [3:05:49<00:00, 222.99s/it]"
     ]
    },
    {
     "name": "stdout",
     "output_type": "stream",
     "text": [
      "[0.2763724804427779, 0.29355584439346616, -1, 0.3796923116433043, 0.14429618224780233, 0.6110384975539538]\n",
      "saving data\n"
     ]
    },
    {
     "name": "stderr",
     "output_type": "stream",
     "text": [
      "\n"
     ]
    }
   ],
   "source": [
    "# extract value from dataframe\n",
    "test_values = df.values\n",
    "\n",
    "# normalize the data\n",
    "test_values = preprocessing.normalize(test_values)\n",
    "\n",
    "# create a table of silhouette score\n",
    "implicit_test_clustering_method(X = test_values, \n",
    "                                total_trial = 50, \n",
    "                                som_max_iteration = None, \n",
    "                                som_lr = 0.7, \n",
    "                                som_nr = 4, \n",
    "                                epoch = 10000, \n",
    "                                kmeans_total_cluster = 8, \n",
    "                                som_m = 4, \n",
    "                                som_n = 2,\n",
    "                                path=\"Datas/silhouette_score_data_dummy.csv\")"
   ]
  },
  {
   "cell_type": "code",
   "execution_count": null,
   "metadata": {},
   "outputs": [],
   "source": [
    "# explicit test\n"
   ]
  }
 ],
 "metadata": {
  "kernelspec": {
   "display_name": "Python 3",
   "language": "python",
   "name": "python3"
  },
  "language_info": {
   "codemirror_mode": {
    "name": "ipython",
    "version": 3
   },
   "file_extension": ".py",
   "mimetype": "text/x-python",
   "name": "python",
   "nbconvert_exporter": "python",
   "pygments_lexer": "ipython3",
   "version": "3.8.10"
  },
  "orig_nbformat": 4
 },
 "nbformat": 4,
 "nbformat_minor": 2
}

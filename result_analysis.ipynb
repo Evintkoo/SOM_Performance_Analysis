{
 "cells": [
  {
   "cell_type": "code",
   "execution_count": 1,
   "metadata": {},
   "outputs": [],
   "source": [
    "import pandas as pd\n",
    "import numpy as np"
   ]
  },
  {
   "cell_type": "code",
   "execution_count": 4,
   "metadata": {},
   "outputs": [
    {
     "data": {
      "text/html": [
       "<div>\n",
       "<style scoped>\n",
       "    .dataframe tbody tr th:only-of-type {\n",
       "        vertical-align: middle;\n",
       "    }\n",
       "\n",
       "    .dataframe tbody tr th {\n",
       "        vertical-align: top;\n",
       "    }\n",
       "\n",
       "    .dataframe thead th {\n",
       "        text-align: right;\n",
       "    }\n",
       "</style>\n",
       "<table border=\"1\" class=\"dataframe\">\n",
       "  <thead>\n",
       "    <tr style=\"text-align: right;\">\n",
       "      <th></th>\n",
       "      <th>kmeans++</th>\n",
       "      <th>random SOM</th>\n",
       "      <th>kmeans SOM</th>\n",
       "      <th>kmeans++ SOM</th>\n",
       "      <th>SOM++</th>\n",
       "      <th>kde SOM</th>\n",
       "    </tr>\n",
       "  </thead>\n",
       "  <tbody>\n",
       "    <tr>\n",
       "      <th>0</th>\n",
       "      <td>0.289166</td>\n",
       "      <td>0.412340</td>\n",
       "      <td>-1</td>\n",
       "      <td>0.818857</td>\n",
       "      <td>0.301438</td>\n",
       "      <td>0.600509</td>\n",
       "    </tr>\n",
       "    <tr>\n",
       "      <th>1</th>\n",
       "      <td>0.245666</td>\n",
       "      <td>0.281276</td>\n",
       "      <td>-1</td>\n",
       "      <td>0.818857</td>\n",
       "      <td>0.416755</td>\n",
       "      <td>0.401765</td>\n",
       "    </tr>\n",
       "    <tr>\n",
       "      <th>2</th>\n",
       "      <td>0.291146</td>\n",
       "      <td>0.134187</td>\n",
       "      <td>-1</td>\n",
       "      <td>0.197652</td>\n",
       "      <td>0.295884</td>\n",
       "      <td>0.431230</td>\n",
       "    </tr>\n",
       "    <tr>\n",
       "      <th>3</th>\n",
       "      <td>0.266322</td>\n",
       "      <td>0.415510</td>\n",
       "      <td>-1</td>\n",
       "      <td>0.150591</td>\n",
       "      <td>0.462891</td>\n",
       "      <td>0.440789</td>\n",
       "    </tr>\n",
       "    <tr>\n",
       "      <th>4</th>\n",
       "      <td>0.240766</td>\n",
       "      <td>0.282193</td>\n",
       "      <td>-1</td>\n",
       "      <td>0.293437</td>\n",
       "      <td>0.200235</td>\n",
       "      <td>0.390512</td>\n",
       "    </tr>\n",
       "  </tbody>\n",
       "</table>\n",
       "</div>"
      ],
      "text/plain": [
       "   kmeans++  random SOM  kmeans SOM  kmeans++ SOM     SOM++   kde SOM\n",
       "0  0.289166    0.412340          -1      0.818857  0.301438  0.600509\n",
       "1  0.245666    0.281276          -1      0.818857  0.416755  0.401765\n",
       "2  0.291146    0.134187          -1      0.197652  0.295884  0.431230\n",
       "3  0.266322    0.415510          -1      0.150591  0.462891  0.440789\n",
       "4  0.240766    0.282193          -1      0.293437  0.200235  0.390512"
      ]
     },
     "execution_count": 4,
     "metadata": {},
     "output_type": "execute_result"
    }
   ],
   "source": [
    "df = pd.read_csv(\"Datas/silhouette_score_data_dummy.csv\")\n",
    "df.head()"
   ]
  },
  {
   "cell_type": "code",
   "execution_count": 5,
   "metadata": {},
   "outputs": [
    {
     "name": "stdout",
     "output_type": "stream",
     "text": [
      "<class 'pandas.core.frame.DataFrame'>\n",
      "RangeIndex: 50 entries, 0 to 49\n",
      "Data columns (total 6 columns):\n",
      " #   Column        Non-Null Count  Dtype  \n",
      "---  ------        --------------  -----  \n",
      " 0   kmeans++      50 non-null     float64\n",
      " 1   random SOM    50 non-null     float64\n",
      " 2   kmeans SOM    50 non-null     int64  \n",
      " 3   kmeans++ SOM  50 non-null     float64\n",
      " 4   SOM++         50 non-null     float64\n",
      " 5   kde SOM       50 non-null     float64\n",
      "dtypes: float64(5), int64(1)\n",
      "memory usage: 2.5 KB\n"
     ]
    }
   ],
   "source": [
    "df.info()"
   ]
  },
  {
   "cell_type": "code",
   "execution_count": 6,
   "metadata": {},
   "outputs": [
    {
     "data": {
      "text/html": [
       "<div>\n",
       "<style scoped>\n",
       "    .dataframe tbody tr th:only-of-type {\n",
       "        vertical-align: middle;\n",
       "    }\n",
       "\n",
       "    .dataframe tbody tr th {\n",
       "        vertical-align: top;\n",
       "    }\n",
       "\n",
       "    .dataframe thead th {\n",
       "        text-align: right;\n",
       "    }\n",
       "</style>\n",
       "<table border=\"1\" class=\"dataframe\">\n",
       "  <thead>\n",
       "    <tr style=\"text-align: right;\">\n",
       "      <th></th>\n",
       "      <th>kmeans++</th>\n",
       "      <th>random SOM</th>\n",
       "      <th>kmeans SOM</th>\n",
       "      <th>kmeans++ SOM</th>\n",
       "      <th>SOM++</th>\n",
       "      <th>kde SOM</th>\n",
       "    </tr>\n",
       "  </thead>\n",
       "  <tbody>\n",
       "    <tr>\n",
       "      <th>count</th>\n",
       "      <td>50.000000</td>\n",
       "      <td>50.000000</td>\n",
       "      <td>50.0</td>\n",
       "      <td>50.000000</td>\n",
       "      <td>50.000000</td>\n",
       "      <td>50.000000</td>\n",
       "    </tr>\n",
       "    <tr>\n",
       "      <th>mean</th>\n",
       "      <td>0.293441</td>\n",
       "      <td>0.284671</td>\n",
       "      <td>-1.0</td>\n",
       "      <td>0.420702</td>\n",
       "      <td>0.358563</td>\n",
       "      <td>0.470699</td>\n",
       "    </tr>\n",
       "    <tr>\n",
       "      <th>std</th>\n",
       "      <td>0.059780</td>\n",
       "      <td>0.246599</td>\n",
       "      <td>0.0</td>\n",
       "      <td>0.343144</td>\n",
       "      <td>0.143034</td>\n",
       "      <td>0.098499</td>\n",
       "    </tr>\n",
       "    <tr>\n",
       "      <th>min</th>\n",
       "      <td>0.230376</td>\n",
       "      <td>-0.391121</td>\n",
       "      <td>-1.0</td>\n",
       "      <td>-1.000000</td>\n",
       "      <td>0.121161</td>\n",
       "      <td>0.244234</td>\n",
       "    </tr>\n",
       "    <tr>\n",
       "      <th>25%</th>\n",
       "      <td>0.263892</td>\n",
       "      <td>0.119075</td>\n",
       "      <td>-1.0</td>\n",
       "      <td>0.291928</td>\n",
       "      <td>0.262058</td>\n",
       "      <td>0.396988</td>\n",
       "    </tr>\n",
       "    <tr>\n",
       "      <th>50%</th>\n",
       "      <td>0.277191</td>\n",
       "      <td>0.332560</td>\n",
       "      <td>-1.0</td>\n",
       "      <td>0.421840</td>\n",
       "      <td>0.347169</td>\n",
       "      <td>0.431734</td>\n",
       "    </tr>\n",
       "    <tr>\n",
       "      <th>75%</th>\n",
       "      <td>0.290651</td>\n",
       "      <td>0.419955</td>\n",
       "      <td>-1.0</td>\n",
       "      <td>0.652140</td>\n",
       "      <td>0.428321</td>\n",
       "      <td>0.580874</td>\n",
       "    </tr>\n",
       "    <tr>\n",
       "      <th>max</th>\n",
       "      <td>0.470953</td>\n",
       "      <td>0.792911</td>\n",
       "      <td>-1.0</td>\n",
       "      <td>0.818857</td>\n",
       "      <td>0.818857</td>\n",
       "      <td>0.611038</td>\n",
       "    </tr>\n",
       "  </tbody>\n",
       "</table>\n",
       "</div>"
      ],
      "text/plain": [
       "        kmeans++  random SOM  kmeans SOM  kmeans++ SOM      SOM++    kde SOM\n",
       "count  50.000000   50.000000        50.0     50.000000  50.000000  50.000000\n",
       "mean    0.293441    0.284671        -1.0      0.420702   0.358563   0.470699\n",
       "std     0.059780    0.246599         0.0      0.343144   0.143034   0.098499\n",
       "min     0.230376   -0.391121        -1.0     -1.000000   0.121161   0.244234\n",
       "25%     0.263892    0.119075        -1.0      0.291928   0.262058   0.396988\n",
       "50%     0.277191    0.332560        -1.0      0.421840   0.347169   0.431734\n",
       "75%     0.290651    0.419955        -1.0      0.652140   0.428321   0.580874\n",
       "max     0.470953    0.792911        -1.0      0.818857   0.818857   0.611038"
      ]
     },
     "execution_count": 6,
     "metadata": {},
     "output_type": "execute_result"
    }
   ],
   "source": [
    "desc_data = df.describe()\n",
    "desc_data"
   ]
  },
  {
   "cell_type": "code",
   "execution_count": 9,
   "metadata": {},
   "outputs": [],
   "source": [
    "desc_data.round(4).to_csv(\"Datas/data_description.csv\")\n",
    "desc_data.round(4).to_excel(\"Datas/data_description.xlsx\")"
   ]
  },
  {
   "cell_type": "code",
   "execution_count": 10,
   "metadata": {},
   "outputs": [],
   "source": [
    "df.round(4).to_excel(\"Datas/silhouette_score_data.xlsx\")"
   ]
  },
  {
   "cell_type": "code",
   "execution_count": null,
   "metadata": {},
   "outputs": [],
   "source": []
  }
 ],
 "metadata": {
  "kernelspec": {
   "display_name": "Python 3",
   "language": "python",
   "name": "python3"
  },
  "language_info": {
   "codemirror_mode": {
    "name": "ipython",
    "version": 3
   },
   "file_extension": ".py",
   "mimetype": "text/x-python",
   "name": "python",
   "nbconvert_exporter": "python",
   "pygments_lexer": "ipython3",
   "version": "3.8.10"
  },
  "orig_nbformat": 4
 },
 "nbformat": 4,
 "nbformat_minor": 2
}
